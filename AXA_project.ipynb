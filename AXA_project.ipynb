{
 "cells": [
  {
   "cell_type": "markdown",
   "id": "39294560",
   "metadata": {},
   "source": [
    "# Предобработка данных"
   ]
  },
  {
   "cell_type": "code",
   "execution_count": 128,
   "id": "30423ed6",
   "metadata": {},
   "outputs": [],
   "source": [
    "import numpy as np\n",
    "import pandas as pd\n",
    "pd.options.mode.chained_assignment = None #чтобы можно было менять значения одной ячейки в pandas"
   ]
  },
  {
   "cell_type": "markdown",
   "id": "e5b2832b",
   "metadata": {},
   "source": [
    "Поменяем типы данных на подходящие"
   ]
  },
  {
   "cell_type": "code",
   "execution_count": 129,
   "id": "140f6fb2",
   "metadata": {},
   "outputs": [
    {
     "data": {
      "text/plain": [
       "rank                               object\n",
       "name                               object\n",
       "link                               object\n",
       "location                           object\n",
       "points                             object\n",
       "Total students                    float64\n",
       "International students            float64\n",
       "Total faculty staff               float64\n",
       "International Students Ratio      float64\n",
       "Citations per Faculty             float64\n",
       "Employer Reputation               float64\n",
       "Employment Outcomes               float64\n",
       "Overall                           float64\n",
       "International Research Network    float64\n",
       "International Faculty Ratio       float64\n",
       "Academic Reputation               float64\n",
       "Faculty Student Ratio             float64\n",
       "dtype: object"
      ]
     },
     "execution_count": 129,
     "metadata": {},
     "output_type": "execute_result"
    }
   ],
   "source": [
    "df = pd.read_csv('https://raw.githubusercontent.com/artsyyyy/python_project_AXA/main/QS_dataframe.csv')\n",
    "df.drop(columns='Unnamed: 0', inplace=True)\n",
    "df['Total faculty staff'] = [float(str(x).replace(',', '.')) for x in df['Total faculty staff']] #некоторые значения через запятую были прописаны, поэтому astype не использовать\n",
    "df.dtypes"
   ]
  },
  {
   "cell_type": "markdown",
   "id": "6d984d96",
   "metadata": {},
   "source": [
    "###  Заполняем пропуски по столбцам"
   ]
  },
  {
   "cell_type": "code",
   "execution_count": 130,
   "id": "75794589",
   "metadata": {},
   "outputs": [
    {
     "data": {
      "text/plain": [
       "rank                                0\n",
       "name                                0\n",
       "link                                0\n",
       "location                            2\n",
       "points                              0\n",
       "Total students                      3\n",
       "International students             46\n",
       "Total faculty staff                 3\n",
       "International Students Ratio       58\n",
       "Citations per Faculty               6\n",
       "Employer Reputation                 2\n",
       "Employment Outcomes                13\n",
       "Overall                           921\n",
       "International Research Network     14\n",
       "International Faculty Ratio        99\n",
       "Academic Reputation                 1\n",
       "Faculty Student Ratio               3\n",
       "dtype: int64"
      ]
     },
     "execution_count": 130,
     "metadata": {},
     "output_type": "execute_result"
    }
   ],
   "source": [
    "df.isnull().sum()"
   ]
  },
  {
   "cell_type": "markdown",
   "id": "c4482bda",
   "metadata": {},
   "source": [
    "#### 1) location"
   ]
  },
  {
   "cell_type": "code",
   "execution_count": 131,
   "id": "72ab06e2",
   "metadata": {},
   "outputs": [
    {
     "data": {
      "text/plain": [
       "1091    Sheffield Hallam University\n",
       "1398             Yuan Ze University\n",
       "Name: name, dtype: object"
      ]
     },
     "execution_count": 131,
     "metadata": {},
     "output_type": "execute_result"
    }
   ],
   "source": [
    "df['name'][np.where(df['location'].isnull())[0]]"
   ]
  },
  {
   "cell_type": "markdown",
   "id": "51dbd221",
   "metadata": {},
   "source": [
    "Всего лишь у двух университетов не заполнена локация, найдем их локацию и заполним построчно:"
   ]
  },
  {
   "cell_type": "code",
   "execution_count": 132,
   "id": "b0f580da",
   "metadata": {},
   "outputs": [],
   "source": [
    "df['location'][1091] = 'Sheffield, United Kingdom'\n",
    "df['location'][1398] = ' Taoyuan City, Taiwan'"
   ]
  },
  {
   "cell_type": "code",
   "execution_count": 133,
   "id": "123db893",
   "metadata": {},
   "outputs": [
    {
     "data": {
      "text/plain": [
       "0"
      ]
     },
     "execution_count": 133,
     "metadata": {},
     "output_type": "execute_result"
    }
   ],
   "source": [
    "df['location'].isnull().sum()"
   ]
  },
  {
   "cell_type": "markdown",
   "id": "cf6c70c9",
   "metadata": {},
   "source": [
    "#### 2) total students"
   ]
  },
  {
   "cell_type": "code",
   "execution_count": 134,
   "id": "ed6ef39b",
   "metadata": {},
   "outputs": [
    {
     "data": {
      "text/plain": [
       "53               City University of Hong Kong\n",
       "355                City, University of London\n",
       "634    The University of Tennessee, Knoxville\n",
       "Name: name, dtype: object"
      ]
     },
     "execution_count": 134,
     "metadata": {},
     "output_type": "execute_result"
    }
   ],
   "source": [
    "df['name'][np.where(df['Total students'].isnull())[0]] #смотрим в каких университетах пропущена число студентов"
   ]
  },
  {
   "cell_type": "code",
   "execution_count": 135,
   "id": "c7bd8bdd",
   "metadata": {},
   "outputs": [
    {
     "data": {
      "text/plain": [
       "354                       Beijing Institute of Technology\n",
       "444                      Beihang University (former BUAA)\n",
       "620          Nanjing University of Science and Technology\n",
       "812     Beijing University of Posts and Telecommunicat...\n",
       "821             China University of Mining and Technology\n",
       "1007                                 Zhengzhou University\n",
       "1050                     Huazhong Agricultural University\n",
       "1055                                  Jiangnan University\n",
       "1230                                     Hohai University\n",
       "1273                           Shanghai Normal University\n",
       "1279                                 Southwest University\n",
       "Name: name, dtype: object"
      ]
     },
     "execution_count": 135,
     "metadata": {},
     "output_type": "execute_result"
    }
   ],
   "source": [
    "df['name'][np.where(df['Total students'] <= 0)[0]] #следовательно в каких-то университетах ноль стоит"
   ]
  },
  {
   "cell_type": "markdown",
   "id": "aa4db8de",
   "metadata": {},
   "source": [
    "У трех университетов пропущено значение числа студентов, еще у 11 стоят нули, заполним такие значения медианными:"
   ]
  },
  {
   "cell_type": "code",
   "execution_count": 136,
   "id": "9545a872",
   "metadata": {},
   "outputs": [],
   "source": [
    "df['Total students'].fillna(df['Total students'].median(), inplace=True)\n",
    "df['Total students'][np.where(df['Total students'] <= 0)[0]] = df['Total students'].median()"
   ]
  },
  {
   "cell_type": "code",
   "execution_count": 137,
   "id": "82627490",
   "metadata": {},
   "outputs": [
    {
     "data": {
      "text/plain": [
       "0"
      ]
     },
     "execution_count": 137,
     "metadata": {},
     "output_type": "execute_result"
    }
   ],
   "source": [
    "df['Total students'].isnull().sum()"
   ]
  },
  {
   "cell_type": "markdown",
   "id": "b40d3e0c",
   "metadata": {},
   "source": [
    "#### 3) international students"
   ]
  },
  {
   "cell_type": "code",
   "execution_count": 138,
   "id": "dd4e4e83",
   "metadata": {},
   "outputs": [
    {
     "data": {
      "text/plain": [
       "53                          City University of Hong Kong\n",
       "355                           City, University of London\n",
       "517                            Universidad de Costa Rica\n",
       "634               The University of Tennessee, Knoxville\n",
       "688    Universidad Nacional del Centro de la Provinci...\n",
       "Name: name, dtype: object"
      ]
     },
     "execution_count": 138,
     "metadata": {},
     "output_type": "execute_result"
    }
   ],
   "source": [
    "df['name'][np.where(df['International students'].isnull())[0]].head(5) # здесь только такие пропуски (нулей нет)"
   ]
  },
  {
   "cell_type": "code",
   "execution_count": 139,
   "id": "115aac60",
   "metadata": {},
   "outputs": [
    {
     "name": "stdout",
     "output_type": "stream",
     "text": [
      "Корелляция между количеством студентов и количеством иностранных студентов - 0.34272760837898797\n"
     ]
    }
   ],
   "source": [
    "cr = np.corrcoef([df['Total students'], df['International students'].fillna(df['International students'].mean())])[0, 1]\n",
    "print('Корелляция между количеством студентов и количеством иностранных студентов -', cr)"
   ]
  },
  {
   "cell_type": "markdown",
   "id": "6513f490",
   "metadata": {},
   "source": [
    "Корелляция между количеством студентов и количеством иностранных студентов мала, следовательно заполнить пропуски в столбце International students, основываясь на общем количестве студентов неверно."
   ]
  },
  {
   "cell_type": "code",
   "execution_count": 140,
   "id": "b2267182",
   "metadata": {},
   "outputs": [
    {
     "name": "stdout",
     "output_type": "stream",
     "text": [
      "Количество пропущенных значений в столбце International students - 46\n"
     ]
    }
   ],
   "source": [
    "print('Количество пропущенных значений в столбце International students -',df['International students'].isnull().sum())"
   ]
  },
  {
   "cell_type": "markdown",
   "id": "88c6db66",
   "metadata": {},
   "source": [
    "Всего пропущенных значений в этом столбце - 46, оптимальным решением является удаление университетов, в которых пропущены значения в столбце International students:"
   ]
  },
  {
   "cell_type": "code",
   "execution_count": 141,
   "id": "e9bcafb9",
   "metadata": {},
   "outputs": [],
   "source": [
    "df.drop(index=np.where(df['International students'].isnull())[0], inplace=True)"
   ]
  },
  {
   "cell_type": "markdown",
   "id": "efdc11f6",
   "metadata": {},
   "source": [
    "#### 4) удаляем овералл и поинтс за ненадобностью"
   ]
  },
  {
   "cell_type": "code",
   "execution_count": 142,
   "id": "3a33f995",
   "metadata": {},
   "outputs": [],
   "source": [
    "df.drop(columns=['Overall', 'points'], inplace=True)"
   ]
  },
  {
   "cell_type": "code",
   "execution_count": 143,
   "id": "049ca39b",
   "metadata": {},
   "outputs": [],
   "source": [
    "df.reset_index(inplace=True)"
   ]
  },
  {
   "cell_type": "code",
   "execution_count": 144,
   "id": "0f7eb2fb",
   "metadata": {},
   "outputs": [],
   "source": [
    "df.drop(columns='index', inplace=True)\n"
   ]
  },
  {
   "cell_type": "markdown",
   "id": "090731a2",
   "metadata": {},
   "source": [
    "#### 5) International Students Ratio"
   ]
  },
  {
   "cell_type": "code",
   "execution_count": 145,
   "id": "3b8bf3a3",
   "metadata": {},
   "outputs": [
    {
     "data": {
      "text/plain": [
       "387          =390\n",
       "393          =396\n",
       "504       501-510\n",
       "520       521-530\n",
       "544       541-550\n",
       "617       601-650\n",
       "813      801-1000\n",
       "864      801-1000\n",
       "1044    1001-1200\n",
       "1209    1201-1400\n",
       "1252    1201-1400\n",
       "1304    1201-1400\n",
       "1353    1201-1400\n",
       "1370        1401+\n",
       "1372        1401+\n",
       "Name: rank, dtype: object"
      ]
     },
     "execution_count": 145,
     "metadata": {},
     "output_type": "execute_result"
    }
   ],
   "source": [
    "df['rank'][np.where(df['International Students Ratio'].isnull())[0]]"
   ]
  },
  {
   "cell_type": "markdown",
   "id": "b2dae10c",
   "metadata": {},
   "source": [
    "Наиболее оптимальным решением является заполнить пропуски в этом столбце медианным значением, в пределах rank университета:"
   ]
  },
  {
   "cell_type": "code",
   "execution_count": 146,
   "id": "52ab2d37",
   "metadata": {},
   "outputs": [],
   "source": [
    "df['International Students Ratio'].iloc[387] = df['International Students Ratio'].iloc[:500].median()\n",
    "df['International Students Ratio'].iloc[393] = df['International Students Ratio'].iloc[:500].median()"
   ]
  },
  {
   "cell_type": "code",
   "execution_count": 147,
   "id": "57c805b0",
   "metadata": {},
   "outputs": [
    {
     "data": {
      "text/plain": [
       "504       501-510\n",
       "520       521-530\n",
       "544       541-550\n",
       "617       601-650\n",
       "813      801-1000\n",
       "864      801-1000\n",
       "1044    1001-1200\n",
       "1209    1201-1400\n",
       "1252    1201-1400\n",
       "1304    1201-1400\n",
       "1353    1201-1400\n",
       "1370        1401+\n",
       "1372        1401+\n",
       "Name: rank, dtype: object"
      ]
     },
     "execution_count": 147,
     "metadata": {},
     "output_type": "execute_result"
    }
   ],
   "source": [
    "df['rank'][np.where(df['International Students Ratio'].isnull())[0]]"
   ]
  },
  {
   "cell_type": "code",
   "execution_count": 148,
   "id": "a8cdf14a",
   "metadata": {},
   "outputs": [],
   "source": [
    "for i in np.where(df['International Students Ratio'].isnull())[0]:\n",
    "    df['International Students Ratio'].iloc[i] = df[df['rank'] == df['rank'].iloc[i]]['International Students Ratio'].median()\n",
    "    "
   ]
  },
  {
   "cell_type": "code",
   "execution_count": 149,
   "id": "5eb35b54",
   "metadata": {},
   "outputs": [
    {
     "data": {
      "text/plain": [
       "0"
      ]
     },
     "execution_count": 149,
     "metadata": {},
     "output_type": "execute_result"
    }
   ],
   "source": [
    "df['International Students Ratio'].isnull().sum()"
   ]
  },
  {
   "cell_type": "markdown",
   "id": "62655130",
   "metadata": {},
   "source": [
    "#### 6) Citations per Faculty"
   ]
  },
  {
   "cell_type": "code",
   "execution_count": 150,
   "id": "af7a3c5f",
   "metadata": {},
   "outputs": [
    {
     "data": {
      "text/plain": [
       "1102    ULACIT - Universidad Latinoamericana de Cienci...\n",
       "Name: name, dtype: object"
      ]
     },
     "execution_count": 150,
     "metadata": {},
     "output_type": "execute_result"
    }
   ],
   "source": [
    "df['name'][np.where(df['Citations per Faculty'].isnull())[0]]"
   ]
  },
  {
   "cell_type": "markdown",
   "id": "2678e6e9",
   "metadata": {},
   "source": [
    "Заполним этот пропуск медианным значением этого показателя, в пределах rank этого университета"
   ]
  },
  {
   "cell_type": "code",
   "execution_count": 151,
   "id": "4982eeef",
   "metadata": {},
   "outputs": [],
   "source": [
    "df['Citations per Faculty'].iloc[1102] = df[df['rank'] == '1001-1200']['Citations per Faculty'].median()"
   ]
  },
  {
   "cell_type": "code",
   "execution_count": 152,
   "id": "accbd42f",
   "metadata": {},
   "outputs": [
    {
     "data": {
      "text/plain": [
       "0"
      ]
     },
     "execution_count": 152,
     "metadata": {},
     "output_type": "execute_result"
    }
   ],
   "source": [
    "df['Citations per Faculty'].isnull().sum()"
   ]
  },
  {
   "cell_type": "markdown",
   "id": "9f0fbef0",
   "metadata": {},
   "source": [
    "#### 7) Employer Reputation "
   ]
  },
  {
   "cell_type": "code",
   "execution_count": 153,
   "id": "bc1510e7",
   "metadata": {},
   "outputs": [
    {
     "data": {
      "text/plain": [
       "544                           University of Madras\n",
       "810                          Chandigarh University\n",
       "912                Universidad Simón Bolívar (USB)\n",
       "1023                              CEU Universities\n",
       "1115                     Universidad de Valladolid\n",
       "1162    University of Warmia and Mazury in Olsztyn\n",
       "1337                        University of Khartoum\n",
       "1344                        University of Sarajevo\n",
       "1353                           Université de Tunis\n",
       "1367    Sudan University of Science and Technology\n",
       "1374                Université Mohammed V de Rabat\n",
       "Name: name, dtype: object"
      ]
     },
     "execution_count": 153,
     "metadata": {},
     "output_type": "execute_result"
    }
   ],
   "source": [
    "df['name'][np.where(df['Employment Outcomes'].isnull())[0]]"
   ]
  },
  {
   "cell_type": "markdown",
   "id": "12cf2784",
   "metadata": {},
   "source": [
    "Наиболее оптимальным решением является заполнить пропуски в этом столбце медианным значением, в пределах rank университета:"
   ]
  },
  {
   "cell_type": "code",
   "execution_count": 154,
   "id": "07fa2d06",
   "metadata": {},
   "outputs": [],
   "source": [
    "for i in np.where(df['Employment Outcomes'].isnull())[0]:\n",
    "    df['Employment Outcomes'].iloc[i] = df[df['rank'] == df['rank'].iloc[i]]['Employment Outcomes'].median()"
   ]
  },
  {
   "cell_type": "code",
   "execution_count": 155,
   "id": "9affc74e",
   "metadata": {},
   "outputs": [
    {
     "data": {
      "text/plain": [
       "0"
      ]
     },
     "execution_count": 155,
     "metadata": {},
     "output_type": "execute_result"
    }
   ],
   "source": [
    "df['Employment Outcomes'].isnull().sum()"
   ]
  },
  {
   "cell_type": "markdown",
   "id": "121f560b",
   "metadata": {},
   "source": [
    "#### 8) International Research Network"
   ]
  },
  {
   "cell_type": "code",
   "execution_count": 156,
   "id": "8b55c843",
   "metadata": {},
   "outputs": [
    {
     "data": {
      "text/plain": [
       "461                               Universidad de Belgrano\n",
       "777                     Universidad Católica Andres Bello\n",
       "874         Pontifícia Universidade Católica de São Paulo\n",
       "1023                                     CEU Universities\n",
       "1046    Kazakh Ablai Khan University of International ...\n",
       "1102    ULACIT - Universidad Latinoamericana de Cienci...\n",
       "1115                            Universidad de Valladolid\n",
       "1279                     Universidad Católica de Colombia\n",
       "1285                            Universidad Metropolitana\n",
       "1358                                  Youngsan University\n",
       "Name: name, dtype: object"
      ]
     },
     "execution_count": 156,
     "metadata": {},
     "output_type": "execute_result"
    }
   ],
   "source": [
    "df['name'][np.where(df['International Research Network'].isnull())[0]]"
   ]
  },
  {
   "cell_type": "markdown",
   "id": "a411dce5",
   "metadata": {},
   "source": [
    "Наиболее оптимальным решением является заполнить пропуски в этом столбце медианным значением, в пределах rank университета:"
   ]
  },
  {
   "cell_type": "code",
   "execution_count": 157,
   "id": "f40b4581",
   "metadata": {},
   "outputs": [],
   "source": [
    "df['International Research Network'].iloc[461] = df['International Research Network'].median()"
   ]
  },
  {
   "cell_type": "code",
   "execution_count": 158,
   "id": "9eeb71eb",
   "metadata": {},
   "outputs": [],
   "source": [
    "for i in np.where(df['International Research Network'].isnull())[0]:\n",
    "    df['International Research Network'].iloc[i] = df[df['rank'] == df['rank'].iloc[i]]['International Research Network'].median()"
   ]
  },
  {
   "cell_type": "code",
   "execution_count": 159,
   "id": "b0001032",
   "metadata": {},
   "outputs": [
    {
     "data": {
      "text/plain": [
       "0"
      ]
     },
     "execution_count": 159,
     "metadata": {},
     "output_type": "execute_result"
    }
   ],
   "source": [
    "df['International Research Network'].isnull().sum()"
   ]
  },
  {
   "cell_type": "markdown",
   "id": "7a4f17ef",
   "metadata": {},
   "source": [
    "#### 9) International Faculty Ratio "
   ]
  },
  {
   "cell_type": "code",
   "execution_count": 160,
   "id": "5f6c49eb",
   "metadata": {},
   "outputs": [
    {
     "data": {
      "text/plain": [
       "245                                   Yeshiva University\n",
       "351                                     Universität Jena\n",
       "387    Pakistan Institute of Engineering and Applied ...\n",
       "418                                  Universität Leipzig\n",
       "476           Martin-Luther-Universität Halle-Wittenberg\n",
       "520            Beijing University of Chemical Technology\n",
       "521               Christian-Albrechts-University zu Kiel\n",
       "522                   Poznan University of Life Sciences\n",
       "Name: name, dtype: object"
      ]
     },
     "execution_count": 160,
     "metadata": {},
     "output_type": "execute_result"
    }
   ],
   "source": [
    "df['name'][np.where(df['International Faculty Ratio'].isnull())[0]].head(8)"
   ]
  },
  {
   "cell_type": "markdown",
   "id": "6f5fd9c9",
   "metadata": {},
   "source": [
    "Наиболее оптимальным решением является заполнить пропуски в этом столбце медианным значением, в пределах rank университета:"
   ]
  },
  {
   "cell_type": "code",
   "execution_count": 161,
   "id": "3608c2ab",
   "metadata": {},
   "outputs": [],
   "source": [
    "df.iloc[:500]['International Faculty Ratio'].fillna(df.iloc[:500]['International Faculty Ratio'].median(), inplace=True)"
   ]
  },
  {
   "cell_type": "code",
   "execution_count": 162,
   "id": "0d3c2459",
   "metadata": {},
   "outputs": [],
   "source": [
    "for i in np.where(df['International Faculty Ratio'].isnull())[0]:\n",
    "    df['International Faculty Ratio'].iloc[i] = df[df['rank'] == df['rank'].iloc[i]]['International Faculty Ratio'].median()\n",
    "    "
   ]
  },
  {
   "cell_type": "code",
   "execution_count": 163,
   "id": "0c52bde2",
   "metadata": {},
   "outputs": [
    {
     "data": {
      "text/plain": [
       "0"
      ]
     },
     "execution_count": 163,
     "metadata": {},
     "output_type": "execute_result"
    }
   ],
   "source": [
    "df['International Faculty Ratio'].isnull().sum()"
   ]
  },
  {
   "cell_type": "markdown",
   "id": "5829d5af",
   "metadata": {},
   "source": [
    "#### 10) Faculty Student Ratio"
   ]
  },
  {
   "cell_type": "code",
   "execution_count": 164,
   "id": "d13e769d",
   "metadata": {},
   "outputs": [
    {
     "data": {
      "text/plain": [
       "544    University of Madras\n",
       "Name: name, dtype: object"
      ]
     },
     "execution_count": 164,
     "metadata": {},
     "output_type": "execute_result"
    }
   ],
   "source": [
    "df['name'][np.where(df['Faculty Student Ratio'].isnull())[0]]"
   ]
  },
  {
   "cell_type": "markdown",
   "id": "3c9eed89",
   "metadata": {},
   "source": [
    "Заполним этот пропуск медианным значением данного столбца"
   ]
  },
  {
   "cell_type": "code",
   "execution_count": 165,
   "id": "94a37722",
   "metadata": {},
   "outputs": [],
   "source": [
    "df['Faculty Student Ratio'].fillna(df['Faculty Student Ratio'].median(), inplace=True)"
   ]
  },
  {
   "cell_type": "markdown",
   "id": "964439bf",
   "metadata": {},
   "source": [
    "#### Проверим все ли пропуски заполнены:"
   ]
  },
  {
   "cell_type": "code",
   "execution_count": 166,
   "id": "e520d84d",
   "metadata": {},
   "outputs": [
    {
     "data": {
      "text/plain": [
       "rank                              0\n",
       "name                              0\n",
       "link                              0\n",
       "location                          0\n",
       "Total students                    0\n",
       "International students            0\n",
       "Total faculty staff               0\n",
       "International Students Ratio      0\n",
       "Citations per Faculty             0\n",
       "Employer Reputation               0\n",
       "Employment Outcomes               0\n",
       "International Research Network    0\n",
       "International Faculty Ratio       0\n",
       "Academic Reputation               0\n",
       "Faculty Student Ratio             0\n",
       "dtype: int64"
      ]
     },
     "execution_count": 166,
     "metadata": {},
     "output_type": "execute_result"
    }
   ],
   "source": [
    "df.isnull().sum() "
   ]
  },
  {
   "cell_type": "markdown",
   "id": "b56b42f5",
   "metadata": {},
   "source": [
    "#### Создадим новые колонки, поменяем индекс и порядок столбцов"
   ]
  },
  {
   "cell_type": "code",
   "execution_count": 167,
   "id": "cc5e9103",
   "metadata": {},
   "outputs": [],
   "source": [
    "df['country'] = [x.split(',')[-1].strip() for x in df['location']]"
   ]
  },
  {
   "cell_type": "code",
   "execution_count": 168,
   "id": "c04bd76c",
   "metadata": {},
   "outputs": [],
   "source": [
    "df = df[['rank', 'name', 'link', 'location','country', 'Total students',\n",
    "       'International students', 'Total faculty staff',\n",
    "       'International Students Ratio', 'Citations per Faculty',\n",
    "       'Employer Reputation', 'Employment Outcomes',\n",
    "       'International Research Network', 'International Faculty Ratio',\n",
    "       'Academic Reputation', 'Faculty Student Ratio' ]]"
   ]
  },
  {
   "cell_type": "code",
   "execution_count": 169,
   "id": "c0585bd9",
   "metadata": {},
   "outputs": [],
   "source": [
    "df.drop(columns='rank', inplace=True) #rank съехал, поэтому удалим его \n",
    "df.index.rename('rank', inplace= True )"
   ]
  },
  {
   "cell_type": "markdown",
   "id": "5639d8af",
   "metadata": {},
   "source": [
    "# Визуализация"
   ]
  },
  {
   "cell_type": "code",
   "execution_count": 170,
   "id": "ccc4b674",
   "metadata": {},
   "outputs": [],
   "source": [
    "import matplotlib.pyplot as plt\n",
    "import seaborn as sns"
   ]
  },
  {
   "cell_type": "code",
   "execution_count": 171,
   "id": "275bf5f8",
   "metadata": {},
   "outputs": [
    {
     "data": {
      "image/png": "[encoded data removed]",
      "text/plain": [
       "<Figure size 1440x360 with 1 Axes>"
      ]
     },
     "metadata": {
      "needs_background": "light"
     },
     "output_type": "display_data"
    }
   ],
   "source": [
    "plt.figure(figsize=(20, 5))\n",
    "sns.countplot(data = df, x = 'country', order=df[\"country\"].value_counts().index)\n",
    "plt.xticks(rotation=90)\n",
    "plt.title('Визуализация количества университетов, представляющих каждую из стран');"
   ]
  },
  {
   "cell_type": "markdown",
   "id": "dff4362e",
   "metadata": {},
   "source": [
    "Соответственно, наибольшее количество университетов в данном рейтинге представляют США, Великобританию, Китай, Японию, Германию и Россию"
   ]
  },
  {
   "cell_type": "code",
   "execution_count": 172,
   "id": "1f9f5ffd",
   "metadata": {},
   "outputs": [
    {
     "data": {
      "image/png": "[encoded data removed]",
      "text/plain": [
       "<Figure size 2160x504 with 3 Axes>"
      ]
     },
     "metadata": {
      "needs_background": "light"
     },
     "output_type": "display_data"
    }
   ],
   "source": [
    "fig, axs = plt.subplots(1, 3, figsize=(30, 7))\n",
    "sns.histplot(ax=axs[0], data= df,  x = 'Total students')\n",
    "sns.histplot(ax=axs[1], data= df,  x = 'International students')\n",
    "sns.histplot(ax=axs[2], data= df,  x = 'Total faculty staff')\n",
    "axs[0].set (title = 'Общее количество студентов по рассматриваемым университетам' )\n",
    "axs[1].set (title = 'Общее количество иностраных студентов по рассматриваемым университетам' )\n",
    "axs[2].set (title = 'Распределение числа преподавателей по рассматриваемым университетам' );\n"
   ]
  },
  {
   "cell_type": "markdown",
   "id": "85dc2e79",
   "metadata": {},
   "source": [
    "Распределение общего количества студентов визуально похоже на распределение хи квадрат. Распределение количества иностранных студентов визуально похоже на распределение экспоненциальное, как и распределение числа преподавателей\n",
    "\n"
   ]
  },
  {
   "cell_type": "code",
   "execution_count": 173,
   "id": "bc8fb395",
   "metadata": {},
   "outputs": [
    {
     "data": {
      "image/png": "[encoded data removed]",
      "text/plain": [
       "<Figure size 2160x504 with 3 Axes>"
      ]
     },
     "metadata": {
      "needs_background": "light"
     },
     "output_type": "display_data"
    }
   ],
   "source": [
    "fig, axs = plt.subplots(1, 3, figsize=(30, 7))\n",
    "sns.histplot(ax=axs[0], data= df,  x = 'International Students Ratio')\n",
    "sns.histplot(ax=axs[1], data= df,  x = 'International Faculty Ratio')\n",
    "sns.histplot(ax=axs[2], data= df,  x = 'Faculty Student Ratio')\n",
    "axs[0].set (title = 'Соотношение иностранных студентов по рассматриваемым университетам' )\n",
    "axs[1].set (title = 'Соотношение иностранных преподавателей по рассматриваемым университетам' )\n",
    "axs[2].set (title = 'Соотношение преподавателей и студентов по рассматриваемым университетам' );\n"
   ]
  },
  {
   "cell_type": "markdown",
   "id": "152380b0",
   "metadata": {},
   "source": [
    "Данные соотношения визуально похожи на экспоненциальное распределение как и количество цитирований на каждый факультет"
   ]
  },
  {
   "cell_type": "code",
   "execution_count": 174,
   "id": "fd075f65",
   "metadata": {},
   "outputs": [
    {
     "data": {
      "image/png": "[encoded data removed]",
      "text/plain": [
       "<Figure size 2160x504 with 2 Axes>"
      ]
     },
     "metadata": {
      "needs_background": "light"
     },
     "output_type": "display_data"
    }
   ],
   "source": [
    "fig, axs = plt.subplots(1, 2, figsize=(30, 7))\n",
    "sns.histplot(ax=axs[0], data= df,  x = 'Citations per Faculty')\n",
    "sns.histplot(ax=axs[1], data= df,  x = 'International Research Network')\n",
    "axs[0].set (title = 'Количество цитирований на каждый факультет по рассматриваемым университетам' )\n",
    "axs[1].set (title = 'Международная исследовательская сеть по рассматриваемым университетам' );\n"
   ]
  },
  {
   "cell_type": "code",
   "execution_count": 175,
   "id": "82e88b83",
   "metadata": {},
   "outputs": [
    {
     "data": {
      "image/png": "[encoded data removed]",
      "text/plain": [
       "<Figure size 2160x504 with 2 Axes>"
      ]
     },
     "metadata": {
      "needs_background": "light"
     },
     "output_type": "display_data"
    }
   ],
   "source": [
    "fig, axs = plt.subplots(1, 2, figsize=(30, 7))\n",
    "sns.histplot(ax=axs[0], data= df,  x = 'Employer Reputation')\n",
    "sns.histplot(ax=axs[1], data= df,  x = 'Employment Outcomes')\n",
    "axs[0].set (title = 'Репутация работодателя рассматриваемых университетов' )\n",
    "axs[1].set (title = 'Результаты в области занятости по рассматриваемым университетам' );\n"
   ]
  },
  {
   "cell_type": "markdown",
   "id": "2c2c604e",
   "metadata": {},
   "source": [
    "Репутация работодателя рассматриваемых университетов и результаты в области занятости по рассматриваемым университетам визуально похожи на экспоненциальное распределение"
   ]
  },
  {
   "cell_type": "code",
   "execution_count": 176,
   "id": "6465da60",
   "metadata": {},
   "outputs": [],
   "source": [
    "a = pd.DataFrame(df.groupby(\"country\")[\"Academic Reputation\"].mean()).sort_values(by = 'Academic Reputation')\n",
    "a.reset_index(inplace= True )"
   ]
  },
  {
   "cell_type": "code",
   "execution_count": 177,
   "id": "d8847308",
   "metadata": {},
   "outputs": [
    {
     "data": {
      "image/png": "[encoded data removed]",
      "text/plain": [
       "<Figure size 1440x360 with 1 Axes>"
      ]
     },
     "metadata": {
      "needs_background": "light"
     },
     "output_type": "display_data"
    }
   ],
   "source": [
    "plt.figure(figsize=(20, 5))\n",
    "sns.barplot(data = a, x = 'country', y = 'Academic Reputation')\n",
    "plt.xticks(rotation=90)\n",
    "plt.title('Cреднее число академическая репутации университетов по странам');"
   ]
  },
  {
   "cell_type": "markdown",
   "id": "26a4141b",
   "metadata": {},
   "source": [
    "Соответственно, наилучшее среднее значение академической репутации университетов у Сингапура, Гонконга,Недерландов."
   ]
  },
  {
   "cell_type": "markdown",
   "id": "adecec06",
   "metadata": {},
   "source": [
    "# Проверка гипотез"
   ]
  },
  {
   "cell_type": "markdown",
   "id": "210cd880",
   "metadata": {},
   "source": [
    "Все гипотезы проверяются на уровне значимости 5%"
   ]
  },
  {
   "cell_type": "code",
   "execution_count": 178,
   "id": "cba16f23",
   "metadata": {},
   "outputs": [],
   "source": [
    "import scipy.stats as sts\n",
    "import statsmodels"
   ]
  },
  {
   "cell_type": "markdown",
   "id": "fd3dede7",
   "metadata": {},
   "source": [
    "## Первая гипотеза"
   ]
  },
  {
   "cell_type": "markdown",
   "id": "adff6ca7",
   "metadata": {},
   "source": [
    "Пусть part - отношение числа иностранных студентов к числу всех студентов, hse_part - отношение числа иностранных студентов к числу всех студентов в ВШЭ\n"
   ]
  },
  {
   "cell_type": "code",
   "execution_count": 51,
   "id": "8b30b93b",
   "metadata": {},
   "outputs": [
    {
     "name": "stdout",
     "output_type": "stream",
     "text": [
      "Отношение числа иностранных студентов к числу всех студентов в ВШЭ - 0.111820806719748\n"
     ]
    }
   ],
   "source": [
    "hse_part = df.loc[308, 'International students']/df.loc[308, 'Total students']\n",
    "print(f'Отношение числа иностранных студентов к числу всех студентов в ВШЭ - {hse_part}')"
   ]
  },
  {
   "cell_type": "markdown",
   "id": "eaded621",
   "metadata": {},
   "source": [
    "Основаная гипотеза (H0): математическое ожидание part равно hse_part"
   ]
  },
  {
   "cell_type": "markdown",
   "id": "d5cfc3d6",
   "metadata": {},
   "source": [
    "Альтернативная гипотеза (Н1): математическое ожидание part не равно hse_part"
   ]
  },
  {
   "cell_type": "markdown",
   "id": "ba5c397d",
   "metadata": {},
   "source": [
    "\n",
    "$$\n",
    "\\begin{aligned}\n",
    "&H_0: \\hspace{2mm} \\mu_{part} = hse part = 0.111820806719748 \\hspace{2mm}  \\\\\n",
    "&H_1: \\hspace{2mm} \\mu_{part} \\neq hse part = 0.111820806719748  \\hspace{2mm} \n",
    "\\end{aligned}\n",
    "$$"
   ]
  },
  {
   "cell_type": "code",
   "execution_count": 54,
   "id": "58a63da2",
   "metadata": {},
   "outputs": [
    {
     "name": "stdout",
     "output_type": "stream",
     "text": [
      "Согласно t-тесту гипотеза H0 отвергается\n"
     ]
    }
   ],
   "source": [
    "import scipy.stats as sts\n",
    "import statsmodels\n",
    "\n",
    "values = (df['International students']/df['Total students']).values\n",
    "ttest, t_pvalue = sts.ttest_1samp(values, popmean=hse_part,  alternative='two-sided')\n",
    "if t_pvalue > 0.05:\n",
    "    print('Согласно t-тесту гипотеза Н0 не отвергается')\n",
    "else:\n",
    "    print('Согласно t-тесту гипотеза H0 отвергается')"
   ]
  },
  {
   "cell_type": "markdown",
   "id": "86bd9028",
   "metadata": {},
   "source": [
    "Первая гипотеза отвергается. Из интереса построим 95% доверительный интервал"
   ]
  },
  {
   "cell_type": "code",
   "execution_count": 56,
   "id": "9ae63731",
   "metadata": {},
   "outputs": [
    {
     "name": "stdout",
     "output_type": "stream",
     "text": [
      "Доверительный интервал для мат. ожидания part - [0.12712455808225168, 0.12756842979589758]\n"
     ]
    }
   ],
   "source": [
    "def confid_interval_var_unknown(arr, alpha):\n",
    "    mean = np.mean(arr)\n",
    "    var = np.var(arr, ddof=1)\n",
    "    t_crit = sts.t.ppf(1-(1-alpha)/2, df = len(arr)-1)\n",
    "    bottom = mean - t_crit*np.sqrt(var/len(arr))\n",
    "    top = mean + t_crit*np.sqrt(var/len(arr))\n",
    "    return [bottom, top]\n",
    "\n",
    "\n",
    "print( f'Доверительный интервал для мат. ожидания part - {confid_interval_var_unknown(values, 0.05)}')"
   ]
  },
  {
   "cell_type": "markdown",
   "id": "eef835e5",
   "metadata": {},
   "source": [
    "Благодаря большому количеству данных получаем, что математическое ожидание отношения числа иностранных студентов к числу всех студентов ~ 0.127"
   ]
  },
  {
   "cell_type": "markdown",
   "id": "9869ab56",
   "metadata": {},
   "source": [
    "## Вторая гипотеза"
   ]
  },
  {
   "cell_type": "markdown",
   "id": "a12ae2d1",
   "metadata": {},
   "source": [
    "Проверим гипотезу о равенстве математических ожиданий для количества работников в США и России"
   ]
  },
  {
   "cell_type": "markdown",
   "id": "b4a04624",
   "metadata": {},
   "source": [
    "$$\n",
    "\\begin{aligned}\n",
    "& H_0: \\mu_{USA} = \\mu_{Russia} \\\\\n",
    "& H_1: \\mu_{USA} \\neq \\mu_{Russia}\n",
    "\\end{aligned}\n",
    "$$"
   ]
  },
  {
   "cell_type": "code",
   "execution_count": 57,
   "id": "0f99509b",
   "metadata": {},
   "outputs": [],
   "source": [
    "values_usa = df[df['country'] == 'United States']['Total faculty staff'].values\n",
    "values_russia = df[df['country'] == 'Russia']['Total faculty staff'].values"
   ]
  },
  {
   "cell_type": "code",
   "execution_count": 58,
   "id": "bd0efd9f",
   "metadata": {},
   "outputs": [
    {
     "name": "stdout",
     "output_type": "stream",
     "text": [
      "Согласно тесту Манна Уитни гипотеза Н0 не отвергается\n",
      "Согласно t-тесту гипотеза Н0 не отвергается\n"
     ]
    },
    {
     "data": {
      "image/png": "[encoded data removed]",
      "text/plain": [
       "<Figure size 720x360 with 1 Axes>"
      ]
     },
     "metadata": {
      "needs_background": "light"
     },
     "output_type": "display_data"
    }
   ],
   "source": [
    "plt.figure(figsize=(10,5))\n",
    "plt.hist(values_usa, bins=20, density=True, alpha=0.4, label='Университеты США')\n",
    "plt.hist(values_russia, bins=20, density=True, alpha=0.4, label='Российские университеты')\n",
    "plt.legend();\n",
    "plt.xlabel('Количество работников университета');\n",
    "plt.ylabel('Часотота');\n",
    "\n",
    "mw_stat, pvalue_mw = sts.mannwhitneyu(values_usa, values_russia, alternative='two-sided')\n",
    "if pvalue_mw > 0.05:\n",
    "    print('Согласно тесту Манна Уитни гипотеза Н0 не отвергается')\n",
    "else:\n",
    "    print('Согласно тесту Манна Уитни гипотеза H0 отвергается')\n",
    "    \n",
    "t_stat, pvalue_t = sts.ttest_ind(values_usa, values_russia, equal_var = False, alternative='two-sided')\n",
    "if pvalue_t > 0.05:\n",
    "    print('Согласно t-тесту гипотеза Н0 не отвергается')\n",
    "else:\n",
    "    print('Согласно t-тесту гипотеза H0 отвергается')"
   ]
  },
  {
   "cell_type": "markdown",
   "id": "ae69f7ff",
   "metadata": {},
   "source": [
    "Так как оба проведенных теста не отвергают основную гипотезу, можно сказать, что в среднем в лучших вузах России и США работает одинаковое количество сотрудников на уровне значимости 5%"
   ]
  },
  {
   "cell_type": "markdown",
   "id": "08850893",
   "metadata": {},
   "source": [
    "## Третья гипотеза"
   ]
  },
  {
   "cell_type": "markdown",
   "id": "ba3bc8a2",
   "metadata": {},
   "source": [
    "Теперь поговорим о количестве студентов, обучающихся в университетах США и России. Также сделаем предположение о равенстве мат. ожиданий"
   ]
  },
  {
   "cell_type": "markdown",
   "id": "2b650ff5",
   "metadata": {},
   "source": [
    "$$\n",
    "\\begin{aligned}\n",
    "& H_0: \\mu_{USA} = \\mu_{Russia} \\\\\n",
    "& H_1: \\mu_{USA} \\neq \\mu_{Russia}\n",
    "\\end{aligned}\n",
    "$$"
   ]
  },
  {
   "cell_type": "code",
   "execution_count": 59,
   "id": "fbd606cf",
   "metadata": {},
   "outputs": [],
   "source": [
    "usa_students = df[df['country'] == 'United States']['Total students'].values\n",
    "rus_students = df[df['country'] == 'Russia']['Total students'].values"
   ]
  },
  {
   "cell_type": "code",
   "execution_count": 60,
   "id": "7f9630e9",
   "metadata": {},
   "outputs": [
    {
     "name": "stdout",
     "output_type": "stream",
     "text": [
      "Согласно тесту Манна Уитни гипотеза H0 отвергается\n",
      "Согласно t-тесту гипотеза H0 отвергается\n"
     ]
    },
    {
     "data": {
      "image/png": "[encoded data removed]",
      "text/plain": [
       "<Figure size 720x360 with 1 Axes>"
      ]
     },
     "metadata": {
      "needs_background": "light"
     },
     "output_type": "display_data"
    }
   ],
   "source": [
    "plt.figure(figsize=(10,5))\n",
    "plt.hist(usa_students, bins=5, density=True, alpha=0.4, label='Университеты США')\n",
    "plt.hist(rus_students, bins=5, density=True, alpha=0.4, label='Российские Университеты')\n",
    "plt.legend();\n",
    "plt.xlabel('Количество студентов, обучающихся в университете');\n",
    "plt.ylabel('Часотота');\n",
    "\n",
    "mw_stat, pval_mw = sts.mannwhitneyu(usa_students, rus_students, alternative='two-sided')\n",
    "if pval_mw > 0.05:\n",
    "    print('Согласно тесту Манна Уитни гипотеза Н0 не отвергается')\n",
    "else:\n",
    "    print('Согласно тесту Манна Уитни гипотеза H0 отвергается')\n",
    "    \n",
    "t_stat, pval_t = sts.ttest_ind(usa_students, rus_students, equal_var = False, alternative='two-sided')\n",
    "if pval_t > 0.05:\n",
    "    print('Согласно t-тесту гипотеза Н0 не отвергается')\n",
    "else:\n",
    "    print('Согласно t-тесту гипотеза H0 отвергается')"
   ]
  },
  {
   "cell_type": "markdown",
   "id": "fd466a06",
   "metadata": {},
   "source": [
    "Так как оба теста отвергают основную гипотезу, нельзя сделать вывод о том, что в среднем студентов в российских вузах столько же сколько в вузах США"
   ]
  },
  {
   "cell_type": "markdown",
   "id": "c3121cc9",
   "metadata": {},
   "source": [
    "## Четвертая гипотеза"
   ]
  },
  {
   "cell_type": "markdown",
   "id": "97ee694e",
   "metadata": {},
   "source": [
    "Это скорее не гипотеза, а построение корряляционной матрицы. Интересно, можно ли сказать, какая связь существует между качеством университета и количеством обучающихся и работающих в нем людей. Возьмем эти три признака, так как остальные числовые признаки точно говорят о сильной линейной связи (так как это расбаловка от 0 до 100 баллов - чем выше, тем лучше вуз). Для этого"
   ]
  },
  {
   "cell_type": "code",
   "execution_count": 61,
   "id": "e05f2238",
   "metadata": {},
   "outputs": [
    {
     "data": {
      "text/plain": [
       "Total students           -0.003944\n",
       "Total faculty staff       0.630167\n",
       "International students    0.473531\n",
       "Name: rank, dtype: float64"
      ]
     },
     "execution_count": 61,
     "metadata": {},
     "output_type": "execute_result"
    }
   ],
   "source": [
    "df['rank'] = df.index\n",
    "(-1)*df[['Total students', 'Total faculty staff', 'International students', 'rank']].corr().loc['rank'].drop('rank')"
   ]
  },
  {
   "cell_type": "markdown",
   "id": "14fa6392",
   "metadata": {},
   "source": [
    "Наиболее сильная положительная линейная связь с рангом у количества персонала университета. На втором месте идет количество иностранных студентов. А вот у количества студентов и ранга университета корреляция ~0, следовательно не существует линейной связи между этими показателями"
   ]
  },
  {
   "cell_type": "markdown",
   "id": "bf4a50e0",
   "metadata": {},
   "source": [
    "# Машинное обучение"
   ]
  },
  {
   "cell_type": "code",
   "execution_count": null,
   "id": "d2a2ac20",
   "metadata": {},
   "outputs": [],
   "source": [
    "import warnings\n",
    "\n",
    "from sklearn.model_selection import train_test_split, cross_val_score\n",
    "from sklearn.preprocessing import StandardScaler\n",
    "from sklearn.ensemble import RandomForestClassifier, DecisionTreeClassifier, BaggingClassifier\n",
    "from sklearn.metrics import accuracy_score, precision_score, recall_score, roc_auc_score, f1_score"
   ]
  },
  {
   "cell_type": "code",
   "execution_count": 62,
   "id": "3f242415",
   "metadata": {},
   "outputs": [],
   "source": [
    "data = df"
   ]
  },
  {
   "cell_type": "code",
   "execution_count": 63,
   "id": "0f1c1ea4",
   "metadata": {},
   "outputs": [
    {
     "data": {
      "text/plain": [
       "[229.0, 458.0, 687.0, 916.0, 1145.0, 1374.0]"
      ]
     },
     "execution_count": 63,
     "metadata": {},
     "output_type": "execute_result"
    }
   ],
   "source": [
    "groups = []\n",
    "for i in range(6):\n",
    "    groups.append((i+1)*(data.shape[0]-1)/6)\n",
    "groups"
   ]
  },
  {
   "cell_type": "code",
   "execution_count": 64,
   "id": "f30cc518",
   "metadata": {},
   "outputs": [],
   "source": [
    "data['group'] = [1]*1375"
   ]
  },
  {
   "cell_type": "code",
   "execution_count": 65,
   "id": "16e8763b",
   "metadata": {},
   "outputs": [
    {
     "data": {
      "text/html": [
       "<div>\n",
       "<style scoped>\n",
       "    .dataframe tbody tr th:only-of-type {\n",
       "        vertical-align: middle;\n",
       "    }\n",
       "\n",
       "    .dataframe tbody tr th {\n",
       "        vertical-align: top;\n",
       "    }\n",
       "\n",
       "    .dataframe thead th {\n",
       "        text-align: right;\n",
       "    }\n",
       "</style>\n",
       "<table border=\"1\" class=\"dataframe\">\n",
       "  <thead>\n",
       "    <tr style=\"text-align: right;\">\n",
       "      <th></th>\n",
       "      <th>name</th>\n",
       "      <th>link</th>\n",
       "      <th>location</th>\n",
       "      <th>country</th>\n",
       "      <th>Total students</th>\n",
       "      <th>International students</th>\n",
       "      <th>Total faculty staff</th>\n",
       "      <th>International Students Ratio</th>\n",
       "      <th>Citations per Faculty</th>\n",
       "      <th>Employer Reputation</th>\n",
       "      <th>Employment Outcomes</th>\n",
       "      <th>International Research Network</th>\n",
       "      <th>International Faculty Ratio</th>\n",
       "      <th>Academic Reputation</th>\n",
       "      <th>Faculty Student Ratio</th>\n",
       "      <th>rank</th>\n",
       "      <th>group</th>\n",
       "    </tr>\n",
       "    <tr>\n",
       "      <th>rank</th>\n",
       "      <th></th>\n",
       "      <th></th>\n",
       "      <th></th>\n",
       "      <th></th>\n",
       "      <th></th>\n",
       "      <th></th>\n",
       "      <th></th>\n",
       "      <th></th>\n",
       "      <th></th>\n",
       "      <th></th>\n",
       "      <th></th>\n",
       "      <th></th>\n",
       "      <th></th>\n",
       "      <th></th>\n",
       "      <th></th>\n",
       "      <th></th>\n",
       "      <th></th>\n",
       "    </tr>\n",
       "  </thead>\n",
       "  <tbody>\n",
       "    <tr>\n",
       "      <th>0</th>\n",
       "      <td>Massachusetts Institute of Technology (MIT)</td>\n",
       "      <td>https://www.topuniversities.com/universities/m...</td>\n",
       "      <td>Cambridge, United States</td>\n",
       "      <td>United States</td>\n",
       "      <td>11035.0</td>\n",
       "      <td>3627.0</td>\n",
       "      <td>2919.0</td>\n",
       "      <td>90.0</td>\n",
       "      <td>100.0</td>\n",
       "      <td>100.0</td>\n",
       "      <td>100.0</td>\n",
       "      <td>96.1</td>\n",
       "      <td>100.0</td>\n",
       "      <td>100.0</td>\n",
       "      <td>100.0</td>\n",
       "      <td>0</td>\n",
       "      <td>1</td>\n",
       "    </tr>\n",
       "    <tr>\n",
       "      <th>1</th>\n",
       "      <td>University of Cambridge</td>\n",
       "      <td>https://www.topuniversities.com/universities/u...</td>\n",
       "      <td>Cambridge, United Kingdom</td>\n",
       "      <td>United Kingdom</td>\n",
       "      <td>20871.0</td>\n",
       "      <td>7865.0</td>\n",
       "      <td>5735.0</td>\n",
       "      <td>96.3</td>\n",
       "      <td>92.3</td>\n",
       "      <td>100.0</td>\n",
       "      <td>100.0</td>\n",
       "      <td>99.5</td>\n",
       "      <td>100.0</td>\n",
       "      <td>100.0</td>\n",
       "      <td>100.0</td>\n",
       "      <td>1</td>\n",
       "      <td>1</td>\n",
       "    </tr>\n",
       "    <tr>\n",
       "      <th>2</th>\n",
       "      <td>Stanford University</td>\n",
       "      <td>https://www.topuniversities.com/universities/s...</td>\n",
       "      <td>Stanford, United States</td>\n",
       "      <td>United States</td>\n",
       "      <td>14518.0</td>\n",
       "      <td>3318.0</td>\n",
       "      <td>4694.0</td>\n",
       "      <td>60.3</td>\n",
       "      <td>99.9</td>\n",
       "      <td>100.0</td>\n",
       "      <td>100.0</td>\n",
       "      <td>96.3</td>\n",
       "      <td>99.8</td>\n",
       "      <td>100.0</td>\n",
       "      <td>100.0</td>\n",
       "      <td>2</td>\n",
       "      <td>1</td>\n",
       "    </tr>\n",
       "  </tbody>\n",
       "</table>\n",
       "</div>"
      ],
      "text/plain": [
       "                                             name  \\\n",
       "rank                                                \n",
       "0     Massachusetts Institute of Technology (MIT)   \n",
       "1                         University of Cambridge   \n",
       "2                             Stanford University   \n",
       "\n",
       "                                                   link  \\\n",
       "rank                                                      \n",
       "0     https://www.topuniversities.com/universities/m...   \n",
       "1     https://www.topuniversities.com/universities/u...   \n",
       "2     https://www.topuniversities.com/universities/s...   \n",
       "\n",
       "                       location         country  Total students  \\\n",
       "rank                                                              \n",
       "0      Cambridge, United States   United States         11035.0   \n",
       "1     Cambridge, United Kingdom  United Kingdom         20871.0   \n",
       "2       Stanford, United States   United States         14518.0   \n",
       "\n",
       "      International students  Total faculty staff  \\\n",
       "rank                                                \n",
       "0                     3627.0               2919.0   \n",
       "1                     7865.0               5735.0   \n",
       "2                     3318.0               4694.0   \n",
       "\n",
       "      International Students Ratio  Citations per Faculty  \\\n",
       "rank                                                        \n",
       "0                             90.0                  100.0   \n",
       "1                             96.3                   92.3   \n",
       "2                             60.3                   99.9   \n",
       "\n",
       "      Employer Reputation  Employment Outcomes  \\\n",
       "rank                                             \n",
       "0                   100.0                100.0   \n",
       "1                   100.0                100.0   \n",
       "2                   100.0                100.0   \n",
       "\n",
       "      International Research Network  International Faculty Ratio  \\\n",
       "rank                                                                \n",
       "0                               96.1                        100.0   \n",
       "1                               99.5                        100.0   \n",
       "2                               96.3                         99.8   \n",
       "\n",
       "      Academic Reputation  Faculty Student Ratio  rank  group  \n",
       "rank                                                           \n",
       "0                   100.0                  100.0     0      1  \n",
       "1                   100.0                  100.0     1      1  \n",
       "2                   100.0                  100.0     2      1  "
      ]
     },
     "execution_count": 65,
     "metadata": {},
     "output_type": "execute_result"
    }
   ],
   "source": [
    "for i in range(5):\n",
    "    data.loc[ groups[i] < data['rank'], 'group' ] = i+2\n",
    "data.head(3)"
   ]
  },
  {
   "cell_type": "markdown",
   "id": "4db42581",
   "metadata": {},
   "source": [
    "Все рассматриваемые университеты разбиты на группы по рангам (столбец 'group'). "
   ]
  },
  {
   "cell_type": "markdown",
   "id": "ce034629",
   "metadata": {},
   "source": [
    "В 1 группе - университеты с рейтингвыми местами от 0 до 229, во 2 от 230 до 458, в 3 группе от 459 до 687 места, в 4 группе от 688 до 916 места, в 5 группе от 917 до 1145, в 6 - университеты с местами от 1146 и выше."
   ]
  },
  {
   "cell_type": "markdown",
   "id": "62ba5bfc",
   "metadata": {},
   "source": [
    "Далее будут построены мдели, предсказывающие принадлежность университета к одной из вышеперечисленных групп."
   ]
  },
  {
   "cell_type": "markdown",
   "id": "9ff02936",
   "metadata": {},
   "source": [
    "Для начала категориальные признаки преобразованы, признаки нормализованы"
   ]
  },
  {
   "cell_type": "code",
   "execution_count": 66,
   "id": "03a79234",
   "metadata": {
    "scrolled": true
   },
   "outputs": [
    {
     "data": {
      "text/html": [
       "<div>\n",
       "<style scoped>\n",
       "    .dataframe tbody tr th:only-of-type {\n",
       "        vertical-align: middle;\n",
       "    }\n",
       "\n",
       "    .dataframe tbody tr th {\n",
       "        vertical-align: top;\n",
       "    }\n",
       "\n",
       "    .dataframe thead th {\n",
       "        text-align: right;\n",
       "    }\n",
       "</style>\n",
       "<table border=\"1\" class=\"dataframe\">\n",
       "  <thead>\n",
       "    <tr style=\"text-align: right;\">\n",
       "      <th></th>\n",
       "      <th>Total students</th>\n",
       "      <th>International students</th>\n",
       "      <th>Total faculty staff</th>\n",
       "      <th>International Students Ratio</th>\n",
       "      <th>Citations per Faculty</th>\n",
       "      <th>Employer Reputation</th>\n",
       "      <th>Employment Outcomes</th>\n",
       "      <th>International Research Network</th>\n",
       "      <th>International Faculty Ratio</th>\n",
       "      <th>Academic Reputation</th>\n",
       "      <th>...</th>\n",
       "      <th>country_Tunisia</th>\n",
       "      <th>country_Turkey</th>\n",
       "      <th>country_Uganda</th>\n",
       "      <th>country_Ukraine</th>\n",
       "      <th>country_United Arab Emirates</th>\n",
       "      <th>country_United Kingdom</th>\n",
       "      <th>country_United States</th>\n",
       "      <th>country_Uruguay</th>\n",
       "      <th>country_Venezuela</th>\n",
       "      <th>country_Vietnam</th>\n",
       "    </tr>\n",
       "    <tr>\n",
       "      <th>rank</th>\n",
       "      <th></th>\n",
       "      <th></th>\n",
       "      <th></th>\n",
       "      <th></th>\n",
       "      <th></th>\n",
       "      <th></th>\n",
       "      <th></th>\n",
       "      <th></th>\n",
       "      <th></th>\n",
       "      <th></th>\n",
       "      <th></th>\n",
       "      <th></th>\n",
       "      <th></th>\n",
       "      <th></th>\n",
       "      <th></th>\n",
       "      <th></th>\n",
       "      <th></th>\n",
       "      <th></th>\n",
       "      <th></th>\n",
       "      <th></th>\n",
       "      <th></th>\n",
       "    </tr>\n",
       "  </thead>\n",
       "  <tbody>\n",
       "    <tr>\n",
       "      <th>0</th>\n",
       "      <td>11035.0</td>\n",
       "      <td>3627.0</td>\n",
       "      <td>2919.0</td>\n",
       "      <td>90.0</td>\n",
       "      <td>100.0</td>\n",
       "      <td>100.0</td>\n",
       "      <td>100.0</td>\n",
       "      <td>96.1</td>\n",
       "      <td>100.0</td>\n",
       "      <td>100.0</td>\n",
       "      <td>...</td>\n",
       "      <td>0</td>\n",
       "      <td>0</td>\n",
       "      <td>0</td>\n",
       "      <td>0</td>\n",
       "      <td>0</td>\n",
       "      <td>0</td>\n",
       "      <td>1</td>\n",
       "      <td>0</td>\n",
       "      <td>0</td>\n",
       "      <td>0</td>\n",
       "    </tr>\n",
       "    <tr>\n",
       "      <th>1</th>\n",
       "      <td>20871.0</td>\n",
       "      <td>7865.0</td>\n",
       "      <td>5735.0</td>\n",
       "      <td>96.3</td>\n",
       "      <td>92.3</td>\n",
       "      <td>100.0</td>\n",
       "      <td>100.0</td>\n",
       "      <td>99.5</td>\n",
       "      <td>100.0</td>\n",
       "      <td>100.0</td>\n",
       "      <td>...</td>\n",
       "      <td>0</td>\n",
       "      <td>0</td>\n",
       "      <td>0</td>\n",
       "      <td>0</td>\n",
       "      <td>0</td>\n",
       "      <td>1</td>\n",
       "      <td>0</td>\n",
       "      <td>0</td>\n",
       "      <td>0</td>\n",
       "      <td>0</td>\n",
       "    </tr>\n",
       "    <tr>\n",
       "      <th>2</th>\n",
       "      <td>14518.0</td>\n",
       "      <td>3318.0</td>\n",
       "      <td>4694.0</td>\n",
       "      <td>60.3</td>\n",
       "      <td>99.9</td>\n",
       "      <td>100.0</td>\n",
       "      <td>100.0</td>\n",
       "      <td>96.3</td>\n",
       "      <td>99.8</td>\n",
       "      <td>100.0</td>\n",
       "      <td>...</td>\n",
       "      <td>0</td>\n",
       "      <td>0</td>\n",
       "      <td>0</td>\n",
       "      <td>0</td>\n",
       "      <td>0</td>\n",
       "      <td>0</td>\n",
       "      <td>1</td>\n",
       "      <td>0</td>\n",
       "      <td>0</td>\n",
       "      <td>0</td>\n",
       "    </tr>\n",
       "    <tr>\n",
       "      <th>3</th>\n",
       "      <td>21972.0</td>\n",
       "      <td>9024.0</td>\n",
       "      <td>6650.0</td>\n",
       "      <td>98.4</td>\n",
       "      <td>90.0</td>\n",
       "      <td>100.0</td>\n",
       "      <td>100.0</td>\n",
       "      <td>99.9</td>\n",
       "      <td>98.8</td>\n",
       "      <td>100.0</td>\n",
       "      <td>...</td>\n",
       "      <td>0</td>\n",
       "      <td>0</td>\n",
       "      <td>0</td>\n",
       "      <td>0</td>\n",
       "      <td>0</td>\n",
       "      <td>1</td>\n",
       "      <td>0</td>\n",
       "      <td>0</td>\n",
       "      <td>0</td>\n",
       "      <td>0</td>\n",
       "    </tr>\n",
       "    <tr>\n",
       "      <th>4</th>\n",
       "      <td>21877.0</td>\n",
       "      <td>5379.0</td>\n",
       "      <td>4480.0</td>\n",
       "      <td>66.9</td>\n",
       "      <td>100.0</td>\n",
       "      <td>100.0</td>\n",
       "      <td>100.0</td>\n",
       "      <td>100.0</td>\n",
       "      <td>76.9</td>\n",
       "      <td>100.0</td>\n",
       "      <td>...</td>\n",
       "      <td>0</td>\n",
       "      <td>0</td>\n",
       "      <td>0</td>\n",
       "      <td>0</td>\n",
       "      <td>0</td>\n",
       "      <td>0</td>\n",
       "      <td>1</td>\n",
       "      <td>0</td>\n",
       "      <td>0</td>\n",
       "      <td>0</td>\n",
       "    </tr>\n",
       "  </tbody>\n",
       "</table>\n",
       "<p>5 rows × 107 columns</p>\n",
       "</div>"
      ],
      "text/plain": [
       "      Total students  International students  Total faculty staff  \\\n",
       "rank                                                                \n",
       "0            11035.0                  3627.0               2919.0   \n",
       "1            20871.0                  7865.0               5735.0   \n",
       "2            14518.0                  3318.0               4694.0   \n",
       "3            21972.0                  9024.0               6650.0   \n",
       "4            21877.0                  5379.0               4480.0   \n",
       "\n",
       "      International Students Ratio  Citations per Faculty  \\\n",
       "rank                                                        \n",
       "0                             90.0                  100.0   \n",
       "1                             96.3                   92.3   \n",
       "2                             60.3                   99.9   \n",
       "3                             98.4                   90.0   \n",
       "4                             66.9                  100.0   \n",
       "\n",
       "      Employer Reputation  Employment Outcomes  \\\n",
       "rank                                             \n",
       "0                   100.0                100.0   \n",
       "1                   100.0                100.0   \n",
       "2                   100.0                100.0   \n",
       "3                   100.0                100.0   \n",
       "4                   100.0                100.0   \n",
       "\n",
       "      International Research Network  International Faculty Ratio  \\\n",
       "rank                                                                \n",
       "0                               96.1                        100.0   \n",
       "1                               99.5                        100.0   \n",
       "2                               96.3                         99.8   \n",
       "3                               99.9                         98.8   \n",
       "4                              100.0                         76.9   \n",
       "\n",
       "      Academic Reputation  ...  country_Tunisia  country_Turkey  \\\n",
       "rank                       ...                                    \n",
       "0                   100.0  ...                0               0   \n",
       "1                   100.0  ...                0               0   \n",
       "2                   100.0  ...                0               0   \n",
       "3                   100.0  ...                0               0   \n",
       "4                   100.0  ...                0               0   \n",
       "\n",
       "      country_Uganda  country_Ukraine  country_United Arab Emirates  \\\n",
       "rank                                                                  \n",
       "0                  0                0                             0   \n",
       "1                  0                0                             0   \n",
       "2                  0                0                             0   \n",
       "3                  0                0                             0   \n",
       "4                  0                0                             0   \n",
       "\n",
       "      country_United Kingdom  country_United States  country_Uruguay  \\\n",
       "rank                                                                   \n",
       "0                          0                      1                0   \n",
       "1                          1                      0                0   \n",
       "2                          0                      1                0   \n",
       "3                          1                      0                0   \n",
       "4                          0                      1                0   \n",
       "\n",
       "      country_Venezuela  country_Vietnam  \n",
       "rank                                      \n",
       "0                     0                0  \n",
       "1                     0                0  \n",
       "2                     0                0  \n",
       "3                     0                0  \n",
       "4                     0                0  \n",
       "\n",
       "[5 rows x 107 columns]"
      ]
     },
     "execution_count": 66,
     "metadata": {},
     "output_type": "execute_result"
    }
   ],
   "source": [
    "y = data['group']\n",
    "X_prep = data.drop(columns = {'group', 'link', 'location', 'rank', 'name'})\n",
    "X = pd.get_dummies(X_prep, drop_first=True)\n",
    "X.head()"
   ]
  },
  {
   "cell_type": "markdown",
   "id": "471bd493",
   "metadata": {},
   "source": [
    "Проведем разделение на обучающую и тестовую выборку и нормализуем данные"
   ]
  },
  {
   "cell_type": "code",
   "execution_count": 67,
   "id": "d73a3862",
   "metadata": {},
   "outputs": [],
   "source": [
    "np.random.seed(1)\n",
    "X_train, X_test, y_train, y_test = train_test_split(X, y, test_size=0.3, random_state=10)"
   ]
  },
  {
   "cell_type": "code",
   "execution_count": 68,
   "id": "e66dbe79",
   "metadata": {},
   "outputs": [],
   "source": [
    "normalizer =StandardScaler()\n",
    "X_real_norm_np = normalizer.fit_transform(X_test)\n",
    "X_test = pd.DataFrame(data=X_real_norm_np)\n",
    "\n",
    "X_real_norm_np = normalizer.transform(X_train)\n",
    "X_train = pd.DataFrame(data=X_real_norm_np)"
   ]
  },
  {
   "cell_type": "markdown",
   "id": "d096687c",
   "metadata": {},
   "source": [
    "Так как стоит задача многоклассовой классификации обучим 3 модели: RandomForestClassifier, DecisionTreeClassifier, BaggingClassifier"
   ]
  },
  {
   "cell_type": "markdown",
   "id": "34022cf2",
   "metadata": {},
   "source": [
    "Первая модель: RandomForestClassifier"
   ]
  },
  {
   "cell_type": "code",
   "execution_count": 69,
   "id": "1ce4d9a3",
   "metadata": {},
   "outputs": [
    {
     "name": "stdout",
     "output_type": "stream",
     "text": [
      "min_samples_split = 50 max_depth = 3 \t Mean CV: 0.5541344501718213 \n",
      "\n",
      "min_samples_split = 50 max_depth = 6 \t Mean CV: 0.6143900343642612 \n",
      "\n",
      "min_samples_split = 50 max_depth = 12 \t Mean CV: 0.6570231958762888 \n",
      "\n",
      "min_samples_split = 50 max_depth = 30 \t Mean CV: 0.6590420962199313 \n",
      "\n",
      "min_samples_split = 50 max_depth = None \t Mean CV: 0.6590420962199313 \n",
      "\n",
      "min_samples_split = 30 max_depth = 3 \t Mean CV: 0.5582796391752577 \n",
      "\n",
      "min_samples_split = 30 max_depth = 6 \t Mean CV: 0.6206615120274914 \n",
      "\n",
      "min_samples_split = 30 max_depth = 12 \t Mean CV: 0.6600730240549828 \n",
      "\n",
      "min_samples_split = 30 max_depth = 30 \t Mean CV: 0.6538767182130584 \n",
      "\n",
      "min_samples_split = 30 max_depth = None \t Mean CV: 0.6538767182130584 \n",
      "\n",
      "min_samples_split = 15 max_depth = 3 \t Mean CV: 0.5562177835051545 \n",
      "\n",
      "min_samples_split = 15 max_depth = 6 \t Mean CV: 0.6206507731958764 \n",
      "\n",
      "min_samples_split = 15 max_depth = 12 \t Mean CV: 0.6767182130584193 \n",
      "\n",
      "min_samples_split = 15 max_depth = 30 \t Mean CV: 0.6611254295532646 \n",
      "\n",
      "min_samples_split = 15 max_depth = None \t Mean CV: 0.6611254295532646 \n",
      "\n",
      "min_samples_split = 5 max_depth = 3 \t Mean CV: 0.5614046391752577 \n",
      "\n",
      "min_samples_split = 5 max_depth = 6 \t Mean CV: 0.6236469072164949 \n",
      "\n",
      "min_samples_split = 5 max_depth = 12 \t Mean CV: 0.6756550687285224 \n",
      "\n",
      "min_samples_split = 5 max_depth = 30 \t Mean CV: 0.6642289518900344 \n",
      "\n",
      "min_samples_split = 5 max_depth = None \t Mean CV: 0.6642289518900344 \n",
      "\n",
      "min_samples_split = 2 max_depth = 3 \t Mean CV: 0.5645189003436425 \n",
      "\n",
      "min_samples_split = 2 max_depth = 6 \t Mean CV: 0.6236898625429553 \n",
      "\n",
      "min_samples_split = 2 max_depth = 12 \t Mean CV: 0.6643363402061856 \n",
      "\n",
      "min_samples_split = 2 max_depth = 30 \t Mean CV: 0.6809922680412371 \n",
      "\n",
      "min_samples_split = 2 max_depth = None \t Mean CV: 0.6799506013745704 \n",
      "\n",
      "Best pair: min_samples_split = 2 max_depth = 30\n"
     ]
    }
   ],
   "source": [
    "warnings.filterwarnings(\"ignore\")\n",
    "min_samples_split = [50, 30, 15, 5, 2]\n",
    "max_depth = [3, 6, 12, 30, None]\n",
    "f=dict()\n",
    "for i in min_samples_split:\n",
    "    for e in max_depth:\n",
    "        rf = RandomForestClassifier(n_estimators=20, max_depth=e, min_samples_split=i, random_state=13, n_jobs=4)\n",
    "        rf.fit(X_train, y_train)\n",
    "        cv_scores = cross_val_score(rf, X_train, y_train, cv=10)\n",
    "        f[np.mean(cv_scores)] = [i, e]\n",
    "        print('min_samples_split =', i,'max_depth =', e,'\\t',\"Mean CV:\", np.mean(cv_scores), '\\n')\n",
    "        \n",
    "print( 'Best pair:', 'min_samples_split =', f[max(f.keys())][0],'max_depth =', f[max(f.keys())][1])"
   ]
  },
  {
   "cell_type": "code",
   "execution_count": 70,
   "id": "f3c66926",
   "metadata": {},
   "outputs": [
    {
     "name": "stdout",
     "output_type": "stream",
     "text": [
      "ROC_AUC: 0.8991520276873913\n",
      "Accuracy: 0.6101694915254238\n",
      "Точность: 0.6059773907011263\n",
      "Полнота: 0.6025553840135447\n"
     ]
    }
   ],
   "source": [
    "rf = RandomForestClassifier(n_estimators=20, max_depth=f[max(f.keys())][1], min_samples_split=f[max(f.keys())][0], random_state=13, n_jobs=4)\n",
    "rf.fit(X_train, y_train)\n",
    "y_pred = rf.predict(X_test)\n",
    "\n",
    "p_pred = rf.predict_proba(X_test)\n",
    "\n",
    "print('ROC_AUC:', roc_auc_score(y_test, p_pred, multi_class='ovr'))\n",
    "print('Accuracy:', accuracy_score(y_test,y_pred ))\n",
    "print('Точность:', precision_score(y_test, y_pred, average='macro'))\n",
    "print('Полнота:', recall_score(y_test, y_pred, average='macro'))"
   ]
  },
  {
   "cell_type": "markdown",
   "id": "8949bc5a",
   "metadata": {},
   "source": [
    "Вторая модель: DecisionTreeClassifier"
   ]
  },
  {
   "cell_type": "code",
   "execution_count": 181,
   "id": "b38e2d7a",
   "metadata": {},
   "outputs": [
    {
     "name": "stdout",
     "output_type": "stream",
     "text": [
      "min_samples_leaf = 50 max_depth = 3 f1_score: 0.47114950956165774 \n",
      "\n",
      "min_samples_leaf = 50 max_depth = 6 f1_score: 0.48896575570097917 \n",
      "\n",
      "min_samples_leaf = 50 max_depth = 12 f1_score: 0.5034611482884411 \n",
      "\n",
      "min_samples_leaf = 50 max_depth = 30 f1_score: 0.5034611482884411 \n",
      "\n",
      "min_samples_leaf = 50 max_depth = None f1_score: 0.5034611482884411 \n",
      "\n",
      "min_samples_leaf = 30 max_depth = 3 f1_score: 0.47114950956165774 \n",
      "\n",
      "min_samples_leaf = 30 max_depth = 6 f1_score: 0.5210252330790105 \n",
      "\n",
      "min_samples_leaf = 30 max_depth = 12 f1_score: 0.5660385722271475 \n",
      "\n",
      "min_samples_leaf = 30 max_depth = 30 f1_score: 0.5660385722271475 \n",
      "\n",
      "min_samples_leaf = 30 max_depth = None f1_score: 0.5660385722271475 \n",
      "\n",
      "min_samples_leaf = 15 max_depth = 3 f1_score: 0.47114950956165774 \n",
      "\n",
      "min_samples_leaf = 15 max_depth = 6 f1_score: 0.5621519640597633 \n",
      "\n",
      "min_samples_leaf = 15 max_depth = 12 f1_score: 0.6133313651393048 \n",
      "\n",
      "min_samples_leaf = 15 max_depth = 30 f1_score: 0.6133313651393048 \n",
      "\n",
      "min_samples_leaf = 15 max_depth = None f1_score: 0.6133313651393048 \n",
      "\n",
      "min_samples_leaf = 5 max_depth = 3 f1_score: 0.47114950956165774 \n",
      "\n",
      "min_samples_leaf = 5 max_depth = 6 f1_score: 0.5880132864260773 \n",
      "\n",
      "min_samples_leaf = 5 max_depth = 12 f1_score: 0.6292503571061133 \n",
      "\n",
      "min_samples_leaf = 5 max_depth = 30 f1_score: 0.6486038740360677 \n",
      "\n",
      "min_samples_leaf = 5 max_depth = None f1_score: 0.6486038740360677 \n",
      "\n",
      "min_samples_leaf = 1 max_depth = 3 f1_score: 0.47114950956165774 \n",
      "\n",
      "min_samples_leaf = 1 max_depth = 6 f1_score: 0.5771611651730243 \n",
      "\n",
      "min_samples_leaf = 1 max_depth = 12 f1_score: 0.6287041548530877 \n",
      "\n",
      "min_samples_leaf = 1 max_depth = 30 f1_score: 0.6336615909511155 \n",
      "\n",
      "min_samples_leaf = 1 max_depth = None f1_score: 0.6336615909511155 \n",
      "\n",
      "Best pair: min_samples_leaf = 5 max_depth = None\n"
     ]
    }
   ],
   "source": [
    "min_samples_leaf = [50, 30, 15, 5, 1]\n",
    "max_depth = [3, 6, 12, 30, None]\n",
    "f=dict()\n",
    "for i in min_samples_leaf:\n",
    "    for e in max_depth:\n",
    "        dt = DecisionTreeClassifier(max_depth=e, min_samples_leaf=i, random_state=13)\n",
    "        dt.fit(X_train, y_train)\n",
    "        f[f1_score(y_test, dt.predict(X_test), average='macro')] = [i, e]\n",
    "        print('min_samples_leaf =', i,'max_depth =', e, 'f1_score:',f1_score(y_test, dt.predict(X_test), average='macro'), '\\n')\n",
    "print( 'Best pair:', 'min_samples_leaf =', f[max(f.keys())][0],'max_depth =', f[max(f.keys())][1])"
   ]
  },
  {
   "cell_type": "code",
   "execution_count": 183,
   "id": "2c6668c5",
   "metadata": {},
   "outputs": [
    {
     "name": "stdout",
     "output_type": "stream",
     "text": [
      "ROC_AUC: 0.8477025448623188\n",
      "Accuracy: 0.6513317191283293\n",
      "Точность: 0.6526160283231929\n",
      "Полнота: 0.6474697679420132\n"
     ]
    }
   ],
   "source": [
    "dt = DecisionTreeClassifier(max_depth=f[max(f.keys())][1], min_samples_leaf = f[max(f.keys())][0], random_state=13)\n",
    "dt.fit(X_train, y_train)\n",
    "y_pred = dt.predict(X_test)\n",
    "p_pred = dt.predict_proba(X_test)\n",
    "print('ROC_AUC:', roc_auc_score(y_test, p_pred, multi_class='ovr'))\n",
    "print('Accuracy:', accuracy_score(y_test,y_pred ))\n",
    "print('Точность:', precision_score(y_test, y_pred, average='macro'))\n",
    "print('Полнота:', recall_score(y_test, y_pred, average='macro'))"
   ]
  },
  {
   "cell_type": "markdown",
   "id": "0caa929e",
   "metadata": {},
   "source": [
    "Третья модель: BaggingClassifier"
   ]
  },
  {
   "cell_type": "code",
   "execution_count": 184,
   "id": "98ad6d89",
   "metadata": {},
   "outputs": [
    {
     "name": "stdout",
     "output_type": "stream",
     "text": [
      "ROC_AUC: 0.9354906644387313\n",
      "Accuracy: 0.6779661016949152\n",
      "Точность: 0.6807610747652295\n",
      "Полнота: 0.6725700520025293\n"
     ]
    }
   ],
   "source": [
    "from sklearn.ensemble import BaggingClassifier\n",
    "dt = DecisionTreeClassifier(random_state=13)\n",
    "bag = BaggingClassifier(dt, n_estimators=50, n_jobs=4)\n",
    "bag.fit(X_train, y_train)\n",
    "y_pred = bag.predict(X_test)\n",
    "p_pred = bag.predict_proba(X_test)\n",
    "print('ROC_AUC:', roc_auc_score(y_test, p_pred, multi_class='ovr'))\n",
    "print('Accuracy:', accuracy_score(y_test,y_pred ))\n",
    "print('Точность:', precision_score(y_test, y_pred, average='macro'))\n",
    "print('Полнота:', recall_score(y_test, y_pred, average='macro'))"
   ]
  },
  {
   "cell_type": "markdown",
   "id": "5c06e709",
   "metadata": {},
   "source": [
    "Так, лучший результат показывает BaggingClassifier, так как accuracy и ROC_AUC наибольшие, так же как и точность, полнота"
   ]
  }
 ],
 "metadata": {
  "kernelspec": {
   "display_name": "Python 3 (ipykernel)",
   "language": "python",
   "name": "python3"
  },
  "language_info": {
   "codemirror_mode": {
    "name": "ipython",
    "version": 3
   },
   "file_extension": ".py",
   "mimetype": "text/x-python",
   "name": "python",
   "nbconvert_exporter": "python",
   "pygments_lexer": "ipython3",
   "version": "3.9.7"
  }
 },
 "nbformat": 4,
 "nbformat_minor": 5
}
